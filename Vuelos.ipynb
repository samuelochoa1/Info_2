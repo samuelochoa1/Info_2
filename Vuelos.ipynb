{
 "cells": [
  {
   "cell_type": "code",
   "execution_count": 11,
   "metadata": {},
   "outputs": [],
   "source": [
    "class Pasajero:\n",
    "    def __init__(self, nombre, apellido, edad, pasaporte):\n",
    "       self.nombre=nombre\n",
    "       self.apellido=apellido\n",
    "       self.edad=edad\n",
    "       self.pasaporte=pasaporte\n",
    "\n",
    "    def mostrarInformacion(self):\n",
    "        print(f\"El pasajero es: {self.nombre} {self.apellido}\")\n",
    "        "
   ]
  },
  {
   "cell_type": "code",
   "execution_count": 33,
   "metadata": {},
   "outputs": [],
   "source": [
    "class Vuelo:\n",
    "    def __init__(self,numero,origen,destino,cantidad):\n",
    "       self.numeroVuelo=numero\n",
    "       self._origen=origen\n",
    "       self._destino=destino\n",
    "       self.cantidad=cantidad\n",
    "       self.asientosDisponibles=cantidad\n",
    "       self.reservas=[]\n",
    "\n",
    "    def mostrarInformacion(self):\n",
    "        print(f\"El vuelo numero: {self.numeroVuelo} de {self._origen}/{self._destino} tiene {self.asientosDisponibles} asientos disponibles de {self.cantidad}\")\n",
    "\n",
    "    def reservaAsiento(self,pasajero): #Relacion de asociación\n",
    "        if pasajero in self.reservas:\n",
    "            print(f\"El usuario {pasajero.nombre} ya tiene una reserva en este vuelo\")\n",
    "        elif self.asientosDisponibles > 0:\n",
    "            self.reservas.append(pasajero)\n",
    "            self.asientosDisponibles-=1\n",
    "            print(f\"El usuario {pasajero.nombre} realizo una reserva\")\n",
    "        else:\n",
    "            print(\"No hay asientos disponibles\")\n",
    "        \n",
    "\n"
   ]
  },
  {
   "cell_type": "code",
   "execution_count": 12,
   "metadata": {},
   "outputs": [],
   "source": [
    "pasajero1=Pasajero(\"Isa\",\"Ariza\",24,\"3232323\")"
   ]
  },
  {
   "cell_type": "code",
   "execution_count": 34,
   "metadata": {},
   "outputs": [],
   "source": [
    "vuelo1=Vuelo(\"HK123\",\"Medellin\",\"Cartagena\",88)"
   ]
  },
  {
   "cell_type": "code",
   "execution_count": 35,
   "metadata": {},
   "outputs": [
    {
     "name": "stdout",
     "output_type": "stream",
     "text": [
      "El vuelo numero: HK123 de Medellin/Cartagena tiene 88 asientos disponibles de 88\n"
     ]
    }
   ],
   "source": [
    "vuelo1.mostrarInformacion()"
   ]
  },
  {
   "cell_type": "code",
   "execution_count": 36,
   "metadata": {},
   "outputs": [
    {
     "name": "stdout",
     "output_type": "stream",
     "text": [
      "El usuario Isa realizo una reserva\n"
     ]
    }
   ],
   "source": [
    "vuelo1.reservaAsiento(pasajero1)"
   ]
  },
  {
   "cell_type": "code",
   "execution_count": 37,
   "metadata": {},
   "outputs": [
    {
     "name": "stdout",
     "output_type": "stream",
     "text": [
      "El vuelo numero: HK123 de Medellin/Cartagena tiene 87 asientos disponibles de 88\n"
     ]
    }
   ],
   "source": [
    "vuelo1.mostrarInformacion()"
   ]
  },
  {
   "cell_type": "code",
   "execution_count": 13,
   "metadata": {},
   "outputs": [
    {
     "name": "stdout",
     "output_type": "stream",
     "text": [
      "El pasajero es:Isa Ariza\n"
     ]
    }
   ],
   "source": [
    "pasajero1.mostrarInformacion()"
   ]
  }
 ],
 "metadata": {
  "kernelspec": {
   "display_name": "Python 3",
   "language": "python",
   "name": "python3"
  },
  "language_info": {
   "codemirror_mode": {
    "name": "ipython",
    "version": 3
   },
   "file_extension": ".py",
   "mimetype": "text/x-python",
   "name": "python",
   "nbconvert_exporter": "python",
   "pygments_lexer": "ipython3",
   "version": "3.11.3"
  },
  "orig_nbformat": 4
 },
 "nbformat": 4,
 "nbformat_minor": 2
}
