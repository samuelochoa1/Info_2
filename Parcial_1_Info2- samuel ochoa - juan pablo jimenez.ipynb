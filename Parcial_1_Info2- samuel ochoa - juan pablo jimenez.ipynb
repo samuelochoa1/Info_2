{
 "cells": [
  {
   "cell_type": "markdown",
   "metadata": {},
   "source": [
    "\n",
    "<p align=\"center\"><img alt=\"udeA logo\" height=\"150px\" src=\"https://github.com/freddyduitama/images/blob/master/logo.png?raw=true\"></p><h1><font color='0B5345'> <center>\n",
    "\n",
    "Informática II\n",
    "\n",
    " </center></font></h1>\n",
    "<h2><font color='0B5345'> <center>\n",
    "Parcial I: Programación orientada a objetos</center></font></h2>\n",
    "<font  face=\"Courier New\" size=\"3\">\n",
    "\n",
    "<p3><center><b><font color='0B5345' face=\"Lucida Calligraphy,Comic Sans MS,Lucida Console\" size=\"5\">Universidad de Antioquia - Bioingeniería</font></b> </center></p3>\n",
    "\n"
   ]
  },
  {
   "cell_type": "markdown",
   "metadata": {},
   "source": [
    "\n",
    "Nombre estudiante 1: Samuel Ochoa Alzate\n",
    "\n",
    "Cédula estudiante 1:1017925384\n",
    "\n",
    "Nombre estudiante 2: Juan Pablo Jimenez Sanchez \n",
    "\n",
    "Cédula estudiante 2:1017926428"
   ]
  },
  {
   "cell_type": "markdown",
   "metadata": {},
   "source": [
    "Antes de iniciar leer cuidadosamente cada enunciado antes de responder y asegurarse de comprender completamente lo que se está solicitando. Además, preste atención a las instrucciones y seleccione la opción que consideres correcta en las preguntas de selección múltiple.\n",
    "\n",
    "¡Buena suerte!"
   ]
  },
  {
   "cell_type": "markdown",
   "metadata": {},
   "source": [
    "1. Describe qué es la encapsulación en programación orientada a objetos y por qué es importante en el desarrollo de software. (10%)"
   ]
  },
  {
   "cell_type": "markdown",
   "metadata": {},
   "source": [
    "Encapsulamiento: En principio los atrivutos no se deberian poder manipular por fuera de la clase; es decir hacer que los atributos y/o métodos internos de una clase sean solo manipulables desde dentro de las instancias de dichas clases\n",
    "* Para evitar esto y hacer atributos que sean privados, protegidos o publicos usamos: \n",
    "privado : self.__nombrevariable\n",
    "protegido : self._nombre variable \n",
    "publico : self.nombre variable\n",
    "\n",
    "Esto es importante ya que hay ciertos objetos los cuales no necesitamos que la gente que use el codigo los pueda modificar o ver , tales como en una empresa las ganancias , perdidas , claves , etc . Para eso usamos el encapsulamiento en el POO"
   ]
  },
  {
   "cell_type": "markdown",
   "metadata": {},
   "source": [
    "2. ¿Qué palabra clave se utiliza en Python para definir una clase? (5%)\n",
    "\n",
    "    a) class\n",
    "\n",
    "    b) def\n",
    "\n",
    "    c) void\n",
    "    \n",
    "    d) function"
   ]
  },
  {
   "cell_type": "markdown",
   "metadata": {},
   "source": [
    "    \n",
    "a)CLASS"
   ]
  },
  {
   "cell_type": "markdown",
   "metadata": {},
   "source": [
    "3. Define qué es la herencia en POO y proporciona un ejemplo en Python que demuestre su uso. (Implementar código) (20%). \n",
    "\n",
    "    **Nota:** El ejemplo propuesto debe tener atributos de instancia y al menos un método funcional. (**No se pueden usar ejemplos de clase**)"
   ]
  },
  {
   "cell_type": "markdown",
   "metadata": {},
   "source": [
    "RESPUESTA\n",
    "La herencia nos permite definir multiples subclases a partir de una clase ya definida.\n",
    "\n",
    "*Permite definir relaciones de genereralizacion donde se parte de lo general a lo concreto \n",
    "*ayuda a la reutilizacion de codigo y a la adaptacion de funcionalidades nuevas "
   ]
  },
  {
   "cell_type": "code",
   "execution_count": 13,
   "metadata": {},
   "outputs": [
    {
     "name": "stdout",
     "output_type": "stream",
     "text": [
      "('2', '1', 'tiene', 'tiene', True)\n",
      "('2', '1', 'tiene', 'tiene', True, True)\n"
     ]
    }
   ],
   "source": [
    "class ave :\n",
    "    def __init__(self,patas,pico,plumas,alas):\n",
    "        self.patas=patas\n",
    "        self.pico=pico\n",
    "        self.plumas=plumas\n",
    "        self.alas=alas\n",
    "class pinguino(ave):\n",
    "    def __init__(self,patas,pico,plumas,alas,novuela):\n",
    "        super().__init__(patas,pico,plumas,alas)\n",
    "        self.novuela=True\n",
    "class avestruz(ave):\n",
    "    def __init__(self,patas,pico,plumas,alas,novuela,cuelloalargado):\n",
    "        super().__init__(patas,pico,plumas,alas)\n",
    "        self.cuelloalargado=True\n",
    "pinguino1=(\"2\",\"1\",\"tiene\",\"tiene\",True)\n",
    "avestruz1=(\"2\",\"1\",\"tiene\",\"tiene\",True,True)\n",
    "print(pinguino1)\n",
    "print(avestruz1)\n",
    "        \n",
    "                  \n",
    "    "
   ]
  },
  {
   "cell_type": "markdown",
   "metadata": {},
   "source": [
    "4. ¿Cuál es el propósito principal del método constructor  _ _init__() en Python? (5%)\n",
    "\n",
    "    a) Definir los atributos de clase.\n",
    "    \n",
    "    b) Inicializar los atributos de instancia.\n",
    "    \n",
    "    c) Definir métodos de clase.\n",
    "    \n",
    "    d) Crear instancias de la clase."
   ]
  },
  {
   "cell_type": "markdown",
   "metadata": {},
   "source": [
    "A) definir los atributos de clase"
   ]
  },
  {
   "cell_type": "markdown",
   "metadata": {},
   "source": [
    "5. Del siguiente código indique donde se evidencian relaciones entre clases (dependencia, asociación o herencia) (10%) \n",
    "\n",
    "    **Nota:** Puede comentar en el código donde están las relaciones."
   ]
  },
  {
   "cell_type": "code",
   "execution_count": null,
   "metadata": {},
   "outputs": [],
   "source": [
    "class lectorArchivos:\n",
    "    def crearArchivo(self, nombre_archivo, contenido):\n",
    "        try:\n",
    "            with open(nombre_archivo, 'w') as file:\n",
    "                file.write(contenido)\n",
    "            print(f\"Archivo '{nombre_archivo}' creado exitosamente.\")\n",
    "        except Exception as e:\n",
    "            print(f\"No se pudo crear el archivo '{nombre_archivo}': {e}\")\n",
    "\n",
    "    def leerArchivo(self, nombre_archivo): \n",
    "        try:\n",
    "            with open(nombre_archivo, 'r') as file:\n",
    "                contenido = file.read()\n",
    "                return contenido\n",
    "        except FileNotFoundError:\n",
    "            print(f\"El archivo '{nombre_archivo}' no existe.\")\n",
    "            return None\n",
    "\n",
    "class procesarDatos:\n",
    "    def procesarTexto(self, texto):\n",
    "        if texto:\n",
    "            return texto.upper()\n",
    "        else:\n",
    "            return \"No se pudo procesar el texto.\"\n",
    "\n",
    "class analizarDatos(procesarDatos):#Relación de herencia\n",
    "    def analizar(self, nombre_archivo): #Relación de asociación\n",
    "        lector = lectorArchivos()\n",
    "        texto = lector.leerArchivo(nombre_archivo)   #Relación de dependencia\n",
    "        if texto:\n",
    "            resultado = self.procesarTexto(texto)\n",
    "            print(\"Análisis completado:\")\n",
    "            print(resultado)\n",
    "        else:\n",
    "            print(\"No hay datos para analizar.\")\n",
    "\n",
    "# Ejemplo de uso\n",
    "nombre_archivo = \"datos.txt\"\n",
    "contenido = \"Este es un ejemplo de texto para el archivo.\"\n",
    "\n",
    "# Crear el archivo\n",
    "lector = lectorArchivos()\n",
    "lector.crearArchivo(nombre_archivo, contenido)\n",
    "\n",
    "# Analizar el archivo\n",
    "analizador = analizarDatos()\n",
    "analizador.analizar(nombre_archivo)"
   ]
  },
  {
   "cell_type": "markdown",
   "metadata": {},
   "source": [
    "6. A partir del siguiente programa basado en programación orientada a objetos responda las siguientes preguntas:"
   ]
  },
  {
   "cell_type": "code",
   "execution_count": null,
   "metadata": {},
   "outputs": [],
   "source": [
    "class cuentaBancaria:\n",
    "    def __init__(self, titular, saldo_inicial=0):\n",
    "        self._titular = titular  \n",
    "        self.__saldo = saldo_inicial  \n",
    "\n",
    "    def depositar(self, cantidad):\n",
    "        if cantidad > 0:\n",
    "            self.__saldo += cantidad\n",
    "            print(f\"Se han depositado {cantidad} en la cuenta de {self._titular}. Nuevo saldo: {self.__saldo}\")\n",
    "        else:\n",
    "            print(\"La cantidad a depositar debe ser mayor que 0.\")\n",
    "\n",
    "    def retirar(self, cantidad):\n",
    "        if 0 < cantidad <= self.__saldo:\n",
    "            self.__saldo -= cantidad\n",
    "            print(f\"Se han retirado {cantidad} de la cuenta de {self._titular}. Nuevo saldo: {self.__saldo}\")\n",
    "        else:\n",
    "            print(\"No se puede retirar la cantidad especificada. Verifique su saldo.\")\n",
    "\n",
    "    def consultarSaldo(self):\n",
    "        print(f\"El saldo actual de la cuenta de {self._titular} es: {self.__saldo}\")\n",
    "\n",
    "\n",
    "# Ejemplo de uso\n",
    "cuenta = cuentaBancaria(\"Juan\", 1000)\n",
    "cuenta.consultarSaldo()\n",
    "cuenta.depositar(500)\n",
    "cuenta.retirar(200)\n"
   ]
  },
  {
   "cell_type": "markdown",
   "metadata": {},
   "source": [
    "6.1 ¿Qué significa que el atributo _titular esté marcado como protegido en la clase CuentaBancaria? (5%)\n",
    "\n",
    "a) Solo los métodos dentro de la clase pueden acceder y modificar el atributo _titular.\n",
    "    \n",
    "b) El atributo _titular se puede acceder y modificar desde fuera de la clase, pero se considera una convención que indica que no debe ser modificado directamente por usuarios de la clase.\n",
    "    \n",
    "c) El atributo _titular no se puede acceder directamente desde fuera de la clase.\n",
    "    \n",
    "d) El atributo _titular solo se puede acceder desde fuera de la clase."
   ]
  },
  {
   "cell_type": "markdown",
   "metadata": {},
   "source": [
    "c) El atributo _titular no se puede acceder directamente desde fuera de la clase."
   ]
  },
  {
   "cell_type": "markdown",
   "metadata": {},
   "source": [
    "6.2 ¿Qué significa que el atributo __saldo esté marcado como privado en la clase CuentaBancaria? (5%)\n",
    "\n",
    "a) El atributo __saldo se puede acceder directamente desde fuera de la clase.\n",
    "\n",
    "b) Solo los métodos dentro de la clase pueden acceder y modificar el atributo __saldo.\n",
    "\n",
    "c) El atributo __saldo se puede acceder y modificar desde cualquier parte del código.\n",
    "\n",
    "d) El atributo __saldo es visible y modificable desde fuera de la clase."
   ]
  },
  {
   "cell_type": "markdown",
   "metadata": {},
   "source": [
    "b) Solo los métodos dentro de la clase pueden acceder y modificar el atributo __saldo."
   ]
  },
  {
   "cell_type": "markdown",
   "metadata": {},
   "source": [
    "6.3 ¿Qué importancia tiene el encapsulamiento en el contexto de la clase CuentaBancaria? (5%)\n",
    "\n",
    "a) Protege los datos sensibles dentro de la clase y permite acceder a ellos desde fuera de la clase.\n",
    "\n",
    "b) Protege los datos sensibles dentro de la clase y restringe el acceso desde fuera de la clase.\n",
    "\n",
    "c) Permite que cualquier método acceda y modifique los datos de la clase.\n",
    "\n",
    "d) No tiene ningún impacto en el acceso a los datos de la clase."
   ]
  },
  {
   "cell_type": "markdown",
   "metadata": {},
   "source": [
    "b) Protege los datos sensibles dentro de la clase y restringe el acceso desde fuera de la clase."
   ]
  },
  {
   "cell_type": "markdown",
   "metadata": {},
   "source": [
    "6.4 Que tipos de métodos y atributos contiene la clase cuentaBancaria? (5%)"
   ]
  },
  {
   "cell_type": "markdown",
   "metadata": {},
   "source": [
    "METODOS DE CLASE :\n",
    "1)DEPOSITAR 2)CONSULTAR \n",
    "METODOS DE INSTANCIA :\n",
    "1)RETIRAR\n",
    "ATRIBUTOS DE CALSE :\n",
    "1)TITULAR 2)SALDO_INICIAL\n",
    "ATRIBUTOS DE INSTANCIA :\n",
    "1)CANTIDAD\n"
   ]
  },
  {
   "cell_type": "markdown",
   "metadata": {},
   "source": [
    "7. Cree una clase llamada Calculadora que simule una calculadora básica, debe hacer una prueba de escritorio para cada método y realizar el diagrama de clase. (30%) \n",
    "\n",
    "La clase Calculadora debe tener los siguientes métodos:\n",
    "\n",
    "**Suma:** Este método debe tomar dos números como argumentos y devolver la suma de esos números. \n",
    "\n",
    "**Resta:** Este método debe tomar dos números como argumentos y devolver la resta del segundo número al primero. \n",
    "\n",
    "**Multiplicación:** Este método debe tomar dos números como argumentos y devolver el producto de esos números. \n",
    "\n",
    "**División:** Este método debe tomar dos números como argumentos y devolver el resultado de dividir el primero por el segundo. Si el segundo número es 0, debes imprimir un mensaje indicando que la división por cero no está permitida. \n",
    "\n",
    "**Nota:** Antes de realizar cualquier operación, valide que ambos argumentos sean números. Si alguno de los argumentos no es un número, debe imprimir un mensaje indicando que solo se permiten números y no realizar la operación.\n",
    "\n",
    "Además, la clase Calculadora no debe tener ningún atributo de instancia."
   ]
  },
  {
   "cell_type": "markdown",
   "metadata": {},
   "source": [
    "**Éxitos y recuerden que la entrega del parcial se realiza subiendo este notebook al repositorio de github de alguno de los integrantes del grupo.**"
   ]
  },
  {
   "cell_type": "code",
   "execution_count": 8,
   "metadata": {},
   "outputs": [
    {
     "name": "stdout",
     "output_type": "stream",
     "text": [
      "el resultado es  3\n",
      "el resultado es  -1\n",
      "el resultado es  2\n",
      "el resultado es  0.5\n",
      "no se puede dividir entre 0\n",
      "el resultado es  0.5\n",
      "tiene que ser un numero intente de nuevo\n",
      "el resultado es  3\n"
     ]
    }
   ],
   "source": [
    "\n",
    "class calculadora:\n",
    "    def __init__(self, numero1,numero2):\n",
    "        self.numero1=numero1\n",
    "        self.numero2=numero2\n",
    "        \n",
    "        \n",
    "\n",
    "    def suma(numero1,numero2):\n",
    "        \n",
    "        resultado=numero1+numero2\n",
    "                \n",
    "        return resultado\n",
    "    def resta( numero1,numero2):\n",
    "        resultado=numero1-numero2\n",
    "               \n",
    "        return resultado\n",
    "    def multiplicacion( numero1,numero2):\n",
    "        \n",
    "        resultado=numero1*numero2\n",
    "              \n",
    "        return resultado\n",
    "    def division( numero1,numero2):        \n",
    "        if numero2==0 :\n",
    "            print(\"NO SE PUEDE DIVIDIR ENTRE 0\")\n",
    "        else :   \n",
    "            resultado=numero1/numero2\n",
    "                    \n",
    "                        \n",
    "        return resultado\n",
    "while True :\n",
    "    op=input(\"SELECCIONE LA OPCION QUE QUEIRA REALIZAS : \\n1|SUMA \\n1|RESTA \\n1|DIVISION \\n1|MULTIPLICACION \\n3|SALIR\")\n",
    "    if op==\"1\":\n",
    "        while True:\n",
    "            try :\n",
    "                numero1=int(input(\"ingrese el primer numero :\"))\n",
    "                numero2=int(input(\"ingrese el segundo numero :\"))\n",
    "                break\n",
    "            except(TypeError,ValueError):\n",
    "                print(\"tiene que ser un numero intente de nuevo\")\n",
    "            continue\n",
    "        print(\"el resultado es \",calculadora.suma(numero1,numero2))\n",
    "    if op==\"2\":\n",
    "        while True:\n",
    "            try :\n",
    "                numero1=int(input(\"ingrese el primer numero :\"))\n",
    "                numero2=int(input(\"ingrese el segundo numero :\"))\n",
    "                break\n",
    "            except(TypeError,ValueError):\n",
    "                print(\"tiene que ser un numero intente de nuevo\")\n",
    "            continue\n",
    "        print(\"el resultado es \",calculadora.resta(numero1,numero2))\n",
    "    if op==\"3\":\n",
    "        while True:\n",
    "            try :\n",
    "                numero1=int(input(\"ingrese el primer numero :\"))\n",
    "                numero2=int(input(\"ingrese el segundo numero :\"))\n",
    "                break\n",
    "            except(TypeError,ValueError):\n",
    "                print(\"tiene que ser un numero intente de nuevo\")\n",
    "            continue\n",
    "        print(\"el resultado es \",calculadora.multiplicacion(numero1,numero2))\n",
    "    if op==\"4\":\n",
    "        while True:\n",
    "            try :\n",
    "                numero1=int(input(\"ingrese el primer numero :\"))\n",
    "                numero2=int(input(\"ingrese el segundo numero :\"))\n",
    "                if numero2==0:\n",
    "                    print(\"no se puede dividir entre 0\")\n",
    "                    continue\n",
    "                else :\n",
    "                    break\n",
    "            except(TypeError,ValueError):\n",
    "                print(\"tiene que ser un numero intente de nuevo\")\n",
    "            continue\n",
    "        print(\"el resultado es \",calculadora.division(numero1,numero2))\n",
    "    if op==\"5\":\n",
    "        break"
   ]
  }
 ],
 "metadata": {
  "kernelspec": {
   "display_name": "Python 3",
   "language": "python",
   "name": "python3"
  },
  "language_info": {
   "codemirror_mode": {
    "name": "ipython",
    "version": 3
   },
   "file_extension": ".py",
   "mimetype": "text/x-python",
   "name": "python",
   "nbconvert_exporter": "python",
   "pygments_lexer": "ipython3",
   "version": "3.11.3"
  },
  "orig_nbformat": 4
 },
 "nbformat": 4,
 "nbformat_minor": 2
}
